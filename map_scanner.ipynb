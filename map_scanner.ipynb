{
  "nbformat": 4,
  "nbformat_minor": 0,
  "metadata": {
    "colab": {
      "provenance": [],
      "authorship_tag": "ABX9TyPh7YId9XzlZBVmMQS0QiyY",
      "include_colab_link": true
    },
    "kernelspec": {
      "name": "python3",
      "display_name": "Python 3"
    },
    "language_info": {
      "name": "python"
    }
  },
  "cells": [
    {
      "cell_type": "markdown",
      "metadata": {
        "id": "view-in-github",
        "colab_type": "text"
      },
      "source": [
        "<a href=\"https://colab.research.google.com/github/restaurantposse/map_scanner/blob/master/map_scanner.ipynb\" target=\"_parent\"><img src=\"https://colab.research.google.com/assets/colab-badge.svg\" alt=\"Open In Colab\"/></a>"
      ]
    },
    {
      "cell_type": "code",
      "execution_count": null,
      "metadata": {
        "id": "EJYlqa8q6ZrW"
      },
      "outputs": [],
      "source": [
        "!pip install easyocr opencv-python\n",
        "!git clone https://github.com/restaurantposse/map_scanner.git"
      ]
    },
    {
      "cell_type": "code",
      "source": [
        "import easyocr\n",
        "import cv2\n",
        "import requests\n",
        "import re"
      ],
      "metadata": {
        "id": "lfjtppZT7Ffs"
      },
      "execution_count": 2,
      "outputs": []
    },
    {
      "cell_type": "code",
      "source": [
        "def read_image(path):\n",
        "    img = cv2.imread(path)\n",
        "    reader = easyocr.Reader(['pl'], gpu=False, verbose=False)\n",
        "    ocr_texts = reader.readtext(img)\n",
        "    cities = []\n",
        "    for text in ocr_texts:\n",
        "        pos_box, output, score = text\n",
        "        if re.sub(r'\\d+', '', output) != '':\n",
        "          cities.append(output)\n",
        "    return cities"
      ],
      "metadata": {
        "id": "Dn7lT7Qj7D8P"
      },
      "execution_count": 3,
      "outputs": []
    },
    {
      "cell_type": "code",
      "source": [
        "def get_geo_data(name_set):\n",
        "  for city in name_set:\n",
        "    data = requests.get(f'https://nominatim.openstreetmap.org/search.php?city={city}&format=jsonv2').json()\n",
        "    try:\n",
        "      print(f\"\"\"\n",
        "        City name: {data[0]['display_name']}\n",
        "        Latitude: {data[0]['lat']}\n",
        "        Longitude: {data[0]['lon']}\"\"\")\n",
        "    except IndexError:\n",
        "      print(f\"There was an error with {city}. Check if text on map is readable.\")\n",
        "  print(\" Data © OpenStreetMap contributors, ODbL 1.0. http://osm.org/copyright\")"
      ],
      "metadata": {
        "id": "2qxHG1sp9knQ"
      },
      "execution_count": 4,
      "outputs": []
    },
    {
      "cell_type": "code",
      "source": [
        "city_names = read_image('map_scanner/img/img_5.png')\n",
        "# print(city_names)\n",
        "get_geo_data(city_names)"
      ],
      "metadata": {
        "id": "uWf1ez1C7RqQ"
      },
      "execution_count": null,
      "outputs": []
    }
  ]
}